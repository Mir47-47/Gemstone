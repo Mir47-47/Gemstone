{
 "cells": [
  {
   "cell_type": "markdown",
   "id": "02de1489",
   "metadata": {},
   "source": [
    "# 2025-1 자연어처리 텀프로젝트\n",
    "- 팀원: 21 문채운, 21 유채민, 23 김채연, 23 박서연"
   ]
  },
  {
   "cell_type": "markdown",
   "id": "6e09439d",
   "metadata": {},
   "source": [
    "## Imports"
   ]
  },
  {
   "cell_type": "code",
   "execution_count": null,
   "id": "1f60302d",
   "metadata": {
    "vscode": {
     "languageId": "plaintext"
    }
   },
   "outputs": [],
   "source": [
    "!git clone https://github.com/thisisthepy/FluxChatUI.git"
   ]
  },
  {
   "cell_type": "markdown",
   "id": "2f4f2f01",
   "metadata": {},
   "source": [
    "%pip install uv\n",
    "%python -m venv .venv --system-site-packages\n",
    "!uv sync"
   ]
  },
  {
   "cell_type": "code",
   "execution_count": null,
   "id": "f69b5dc8",
   "metadata": {
    "vscode": {
     "languageId": "plaintext"
    }
   },
   "outputs": [],
   "source": [
    "import os\n",
    "import sys\n",
    "import subprocess\n",
    "\n",
    "def switch_to_uv_venv(venv_path):\n",
    "    \"\"\"uv 가상환경으로 전환\"\"\"\n",
    "    \n",
    "    # 1. 환경 변수 설정\n",
    "    os.environ['VIRTUAL_ENV'] = venv_path\n",
    "    os.environ['PATH'] = f\"{venv_path}/bin:{os.environ.get('PATH', '')}\"\n",
    "    \n",
    "    # 2. Python path 업데이트\n",
    "    site_packages = f\"{venv_path}/lib/python{sys.version_info.major}.{sys.version_info.minor}/site-packages\"\n",
    "    if site_packages not in sys.path:\n",
    "        sys.path.insert(0, site_packages)\n",
    "    \n",
    "    # 3. 확인\n",
    "    result = subprocess.run([f\"{venv_path}/bin/python\", \"--version\"], \n",
    "                          capture_output=True, text=True)\n",
    "    print(f\"Switched to: {result.stdout.strip()}\")\n",
    "    print(f\"Virtual env: {os.environ.get('VIRTUAL_ENV')}\")\n",
    "\n",
    "# 사용 예시\n",
    "switch_to_uv_venv(\"/content/my-uv-project/.venv\")"
   ]
  },
  {
   "cell_type": "code",
   "execution_count": null,
   "id": "d04c87c4",
   "metadata": {
    "vscode": {
     "languageId": "plaintext"
    }
   },
   "outputs": [],
   "source": []
  }
 ],
 "metadata": {
  "language_info": {
   "name": "python"
  }
 },
 "nbformat": 4,
 "nbformat_minor": 5
}
